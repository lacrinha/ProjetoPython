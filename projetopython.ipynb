{
  "cells": [
    {
      "metadata": {
        "trusted": true
      },
      "cell_type": "code",
      "source": "#pylint:disable=W0123\n#pylint:disable=E0001\n#pylint:disable=W0212\n#encoding: utf-8\n\nimport csv\nfrom Objetos import (Paciente, Psicologo)\n\ndef msg(num):\n\tmsgs = {1: '''\n\t        HelPM\n\t    Saúde Mental\n\t\t\t\t\t    \n\t1. Cadastro de Paciente.\n\t2. Cadastro de Psicólogo.\n\t3. Visualizar Pacientes.\n\t4. Visualizar Psicólogos.\n\t5. Editar Paciente\n\t6. Editar Psicólogo\n\t7. Sair.\n\t\t\t\t\t    \n\tDigite sua opção: >> ''',\n        2: '''\n\tDigite o número da opção que deseja :\n\t\t\t\n\t1. Visualizar dados pelo Nome.\n\t2. Visualizar dados por Telefone.\n\t3. Visualizar dados pelo Bairro.\n\t4. Visualizar dados pelo ID.\n\t5. Voltar ao menu anterior.\n\t\t\t\n\tDigite sua opção: >> ''',\n\t\t3:'''\n\tDeseja alterar\n\t0. Ver Dados Atuais\n\t1. Nome.\n\t2. Telefone.\n\t3. Bairro.\n\t4. Senha.\n\t5. Refazer cadastro.\n\t6. CANCELAR.\n\t\n\tDigite sua opção: >> '''\n\t\t}\n        \n\treturn msgs[num]\n\t\ndef cadastrar(Objeto, ID = False):\n\tnome = input('\\n\\tNome: ').title()\n\tif not nome:\n\t\tprint(\"\\n\\tVoltando ao menu anterior\")\n\t\tmenu()\n\tcadastro = Objeto(nome)\t\n\tcadastro.telefone = input('\\tTelefone: ')\n\tcadastro.bairro = input('\\tBairro: ').title()\n\tif not ID:\n\t\tcadastro._Pessoa__senha = input('\\tSenha: ')\n\telse:\n\t\tcadastro._Pessoa__senha = ID\n\t\t#criar teste que invalide senha ja existente\n\n\treturn cadastro\n\ndef load_data(caminho, mode = \"r\"):\n\twith open(caminho, mode) as file:\n\t\tler = csv.reader(file)\n\t\tpos = 0\n\t\toutput = []\n\t\tfor row in ler:\n\t\t\trows = {}\n\t\t\tif not pos:\n\t\t\t\thead = row\n\t\t\t\tpos += 1\n\t\t\telif pos >= 1:\n\t\t\t\tx = 0\n\t\t\t\tfor h in head:\n\t\t\t\t\trows[h] = row[x]\n\t\t\t\t\tx += 1\n\t\t\tif rows:\n\t\t\t\toutput.append(rows)\n\treturn output\n\t\ndef save_data(arquivo, local, colunas):\n\twith open(local, \"w+\") as file:\n\t\trecord = csv.DictWriter(file, fieldnames=colunas)\n\t\trecord.writeheader()\n\t\tfor x in arquivo:\n\t\t\trecord.writerow(x)\n\tprint(\"\\n\\tSalvo\")\n\t\ndef menu():\n\tflag = True\n\tpacientes = load_data(\"pacientes.csv\", \"r\")\n\tpsicologos = load_data(\"psicologos.csv\", \"r\")\n\n\twhile flag:\n\t\topcao = input(msg(1))\n\t\tif opcao == '1':\n\t\t\tpaciente = cadastrar(Paciente)._Pessoa__atributos()\n\t\t\tpacientes.append(paciente)\n\t\t\thead = list(pacientes[0].keys())\n\t\t\tsave_data(pacientes, \"pacientes.csv\", head)\n\t\telif opcao == '2':\n\t\t\tpsicologo = cadastrar(Psicologo)._Pessoa__atributos()\n\t\t\tpsicologos.append(psicologo)\n\t\t\thead = list(psicologos[0].keys())\n\t\t\tsave_data(psicologos, \"psicologos.csv\", head)\n\t\telif opcao == '3':\n\t\t\tconsultar(pacientes)\n\t\telif opcao == '4':\n\t\t\tconsultar(psicologos)\n\t\telif opcao == '5':\n\t\t\t#print(\"\\n\\tEm desenvolvimento\\n\")\n\t\t\teditar(pacientes, Paciente, \"pacientes.csv\")\n\t\telif opcao == '6':\n\t\t\t#print(\"\\n\\tEm desenvolvimento\\n\")\n\t\t\teditar(psicologos, Psicologo, \"psicologos.csv\")\n\t\telif opcao == '7':\n\t\t\tprint(\"\\n\\tPrograma encerrado com sucesso!!\")\n\t\t\tflag = False\n\t\telse:\n\t\t\tprint(\"\\n\\tOpcao invalida, tente novamente: \")\n\t\t\tmenu()\n\t\t\n\t\tpausa = input(\"\\n\\tAperte ENTER para continuar >>\")\n\t\t\t\ndef consultar(cadastro):\n\topcao = input(msg(2))\n\thead = list(cadastro[0].keys())[:-1]\n\tfound = False\n\tfiltro = {\"1\": \"Nome\", \"2\": \"Telefone\", \"3\": \"Bairro\", \"4\": \"Senha\"}\n\tif opcao == \"5\":\n\t\tmenu()\n\telif opcao in \"1234\":\n\t \tver = input('\\n\\tDigite sua busca: ')\n\t \tprint()\n\t \tfor x in range(len(cadastro)):\n\t \t\tif ver in cadastro[x][filtro[opcao]]:\n\t \t\t\t#print(filtro[opcao])\n\t \t\t\tfor y in head:\n\t \t\t\t\tfound = True\n\t \t\t\t\tprint(f'\\t{y}: {cadastro[x][y]}')\n\t \tif not found:\n\t \t\tprint(\"\\tNão encontrada nenhuma entrada correspondente!\")\t\n\telse:\n\t\tprint(\"\\n\\tDigite opção válida: \")\n\t\tconsultar(cadastro)\n\ndef editar(cadastro, tipo, tabela):\n\thead = list(cadastro[0].keys())\n\tID = input(\"\\n\\tDigite a ID do cadastro que deseja editar: >> \")\n\tfound = False\n\tfor x in range(len(cadastro)):\n \t\tif ID in cadastro[x]['Senha']:\n \t\t\tfound = True\n \t\t\tobjeto = editor(cadastro[x], tipo)\n \t\t\topcao = input(msg(3))\n \t\t\tif opcao == \"0\":\n \t\t\t\tfor w, z in objeto._Pessoa__atributos().items():\n \t\t\t\t\tif w == \"Senha\":\n \t\t\t\t\t\tcontinue\n \t\t\t\t\tprint(f\"\\t{w} : {z}\")\n \t\t\t\topcao = input(\"\\n\\tAguardando operação: >> \")\n \t\t\tif opcao == \"1\":\n \t\t\t\tobjeto.nome = input(\"\\tDigite novo nome: >> \")\n \t\t\telif opcao == \"2\":\n \t\t\t\tobjeto.telefone = input(\"\\tDigite novo telefone: >> \")\n \t\t\telif opcao == \"3\":\n \t\t\t\tobjeto.bairro = input(\"\\tDigite novo bairro: >> \")\n \t\t\telif opcao == \"4\":\n \t\t\t\tobjeto._Pessoa__senha = input(\"\\tDigite novo ID >> \")\n \t\t\telif opcao == \"5\":\n \t\t\t\tobjeto = cadastrar(tipo, ID)\n \t\t\telif opcao == \"6\":\n \t\t\t\tprint(\"\\tCancelado!\\nVoltando ao Menu Principal...\")\n \t\t\t\tmenu()\n \t\t\telif opcao == \"x\":\n \t\t\t\ttry:\n\t \t\t\t\tcomando = eval(input(\"\\t: >> \"))\n\t \t\t\t\tprint(f\"\\t{comando}\")\n\t \t\t\texcept:\n\t \t\t\t\tcomando = eval(input(\"\\t: >> \"))\n \t\t\t\t\tprint(f\"\\t{comando}\")\n \t\t\telse:\n \t\t\t\tprint(\"\\tOpção invalida, voltando ao menu principal!\\n\")\n \t\t\t\t\n \t\t\tcadastro[x] = objeto._Pessoa__atributos()\n \t\t\tsave_data(cadastro, tabela, head)\n\tif not found:\n\t\tprint(\"\\tNão encontrada nenhuma entrada correspondente!\")\n\t\t\ndef editor(pessoa, tipo):\n\tobjeto = tipo(pessoa['Nome'])\n\tobjeto._telefone(pessoa[\"Telefone\"])\n\tobjeto._bairro(pessoa[\"Bairro\"])\n\tobjeto._Pessoa__senha = pessoa[\"Senha\"]\n\treturn objeto\n\t\t\t\ndef main():\n\tmenu()\n \t\nif __name__ == \"__main__\":\n\tmain()",
      "execution_count": null,
      "outputs": [
        {
          "output_type": "stream",
          "name": "stdout",
          "text": "\n\t        HelPM\n\t    Saúde Mental\n\t\t\t\t\t    \n\t1. Cadastro de Paciente.\n\t2. Cadastro de Psicólogo.\n\t3. Visualizar Pacientes.\n\t4. Visualizar Psicólogos.\n\t5. Editar Paciente\n\t6. Editar Psicólogo\n\t7. Sair.\n\t\t\t\t\t    \n\tDigite sua opção: >> 1\n\n\tNome: deivid\n\tTelefone: 222\n\tBairro: novo\n\tSenha: 333\n\n\tSalvo\n\n\tAperte ENTER para continuar >>\n\n\t        HelPM\n\t    Saúde Mental\n\t\t\t\t\t    \n\t1. Cadastro de Paciente.\n\t2. Cadastro de Psicólogo.\n\t3. Visualizar Pacientes.\n\t4. Visualizar Psicólogos.\n\t5. Editar Paciente\n\t6. Editar Psicólogo\n\t7. Sair.\n\t\t\t\t\t    \n\tDigite sua opção: >> 3\n\n\tDigite o número da opção que deseja :\n\t\t\t\n\t1. Visualizar dados pelo Nome.\n\t2. Visualizar dados por Telefone.\n\t3. Visualizar dados pelo Bairro.\n\t4. Visualizar dados pelo ID.\n\t5. Voltar ao menu anterior.\n\t\t\t\n\tDigite sua opção: >> 3\n\n\tDigite sua busca: novo\n\n\tNão encontrada nenhuma entrada correspondente!\n\n\tAperte ENTER para continuar >>\n\n\t        HelPM\n\t    Saúde Mental\n\t\t\t\t\t    \n\t1. Cadastro de Paciente.\n\t2. Cadastro de Psicólogo.\n\t3. Visualizar Pacientes.\n\t4. Visualizar Psicólogos.\n\t5. Editar Paciente\n\t6. Editar Psicólogo\n\t7. Sair.\n\t\t\t\t\t    \n\tDigite sua opção: >> 3\n\n\tDigite o número da opção que deseja :\n\t\t\t\n\t1. Visualizar dados pelo Nome.\n\t2. Visualizar dados por Telefone.\n\t3. Visualizar dados pelo Bairro.\n\t4. Visualizar dados pelo ID.\n\t5. Voltar ao menu anterior.\n\t\t\t\n\tDigite sua opção: >> 3\n\n\tDigite sua busca: Novo\n\n\tNome: Deivid\n\tTelefone: 222\n\tBairro: Novo\n"
        }
      ]
    },
    {
      "metadata": {
        "trusted": true
      },
      "cell_type": "code",
      "source": "",
      "execution_count": null,
      "outputs": []
    }
  ],
  "metadata": {
    "kernelspec": {
      "name": "python36",
      "display_name": "Python 3.6",
      "language": "python"
    },
    "language_info": {
      "mimetype": "text/x-python",
      "nbconvert_exporter": "python",
      "name": "python",
      "pygments_lexer": "ipython3",
      "version": "3.6.6",
      "file_extension": ".py",
      "codemirror_mode": {
        "version": 3,
        "name": "ipython"
      }
    }
  },
  "nbformat": 4,
  "nbformat_minor": 2
}